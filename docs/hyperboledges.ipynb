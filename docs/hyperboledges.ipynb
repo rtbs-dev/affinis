{
 "cells": [
  {
   "cell_type": "markdown",
   "id": "375e67ae-8c5f-40da-88cf-781d4bab4129",
   "metadata": {},
   "source": [
    "# Online Tree Metric Approximation through Hyperbolic Commute Kernels\n",
    "\n",
    "Building on the previous (observation-MSTs). \n",
    "\n",
    "What if the ultimate goal of an annotator was _specifically_ to extract tree-like structure, such as taxonomy. \n",
    "See: nickel & kiela, etc. \n",
    "In this case, we need to enforce a tree-like distance metric that is used prior to downstream \n",
    "(...)\n",
    "\n",
    "## Main idea\n",
    "\n"
   ]
  }
 ],
 "metadata": {
  "kernelspec": {
   "display_name": "affinis",
   "language": "python",
   "name": "affinis"
  },
  "language_info": {
   "codemirror_mode": {
    "name": "ipython",
    "version": 3
   },
   "file_extension": ".py",
   "mimetype": "text/x-python",
   "name": "python",
   "nbconvert_exporter": "python",
   "pygments_lexer": "ipython3",
   "version": "3.10.8"
  }
 },
 "nbformat": 4,
 "nbformat_minor": 5
}
